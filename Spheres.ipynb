{
 "cells": [
  {
   "cell_type": "markdown",
   "metadata": {},
   "source": [
    "# Spheres\n",
    "\n",
    "Fivethirtyeight's Riddler asks \"[what is the minimum number of spheres of sequential size (1,2,3, etc.) that can be divided into three equal-sized groups](https://fivethirtyeight.com/features/can-you-flip-the-magic-coin/)? By \"equal size\", the problem refers to weight, but since all the spheres in this case are made of the same material (gold, as it happens), this is equivalent to finding groups of equal volume. We can further simplify the problem: the volume of a sphere of radius $r$ is $\\frac{4}{3}\\pi r^3$; we can pull $\\frac{4}{3}\\pi$ out of each volume to make this equivalent to finding the smallest $n$ such that the first $n$ cubes can be partitioned into three groups of equal sum.\n",
    "\n",
    "(After re-reading the problem, I suppose I should also note that the spheres have whole number **diameters**, not radii; fortunately, this does not alter the solution.)\n",
    "\n",
    "I will use Julia to work this problem, in an attempt to learn more of the language. We start with a function for the sum of cubes:"
   ]
  },
  {
   "cell_type": "code",
   "execution_count": 1,
   "metadata": {},
   "outputs": [
    {
     "data": {
      "text/plain": [
       "sumofcubes (generic function with 1 method)"
      ]
     },
     "execution_count": 1,
     "metadata": {},
     "output_type": "execute_result"
    }
   ],
   "source": [
    "function sumofcubes(n)\n",
    "    return (n * (n+1) / 2)^2\n",
    "end"
   ]
  },
  {
   "cell_type": "markdown",
   "metadata": {},
   "source": [
    "Initially, I had an algorithm to find **one** sublset summing to the correct total, but it led to wrong answers, because it failed to account for the fact that there are multiple combinations of cubes with the same sum (for example, $3^3 + 4^3 + 5^3 = 6^3$). In hindsight, it's a little surprising that such a greedy algorithm would find solutions at all. The new algorithm simply finds all possible subsets of a list that add to a given total."
   ]
  },
  {
   "cell_type": "code",
   "execution_count": 2,
   "metadata": {},
   "outputs": [
    {
     "data": {
      "text/plain": [
       "allparts (generic function with 1 method)"
      ]
     },
     "execution_count": 2,
     "metadata": {},
     "output_type": "execute_result"
    }
   ],
   "source": [
    "# Algorithm:\n",
    "# For each element in the list of cubes\n",
    "#     1) put this element in a partition\n",
    "#        decrement the total by that amount\n",
    "#        try to find a subset of the remaining elements adding to the lower total\n",
    "#     2) \n",
    "\n",
    "function allparts(list, total)\n",
    "    if sum(list) < total\n",
    "        return []\n",
    "    end\n",
    "    for idx in 1:length(list)\n",
    "        elt = list[idx]\n",
    "        if elt > total\n",
    "            return [] # everything left is also too big\n",
    "        end\n",
    "        if elt == total # jackpot\n",
    "            return Array{Int64,1}[[elt]] # have to cast this\n",
    "        end\n",
    "        result = []\n",
    "        with = allparts(list[idx+1:end], total - elt)\n",
    "        if !isempty(with)\n",
    "            result = [append!([elt],list) for list in with]\n",
    "        end\n",
    "        without = allparts(list[idx+1:end], total)\n",
    "        append!(result, without)\n",
    "        return result\n",
    "    end\n",
    "end"
   ]
  },
  {
   "cell_type": "markdown",
   "metadata": {},
   "source": [
    "We can eliminate certain values of $n$ as possibilities immediately. For one, if $n = 1 \\left(\\mod 3\\right)$, then the sum of cubes won't be divisible by 3. Also, the sum of the cubes has to be larger than three times the largest cube; the smallest $n$ where this occurs is 10, but since this is already not a possibility, we can start with $n = 11$. "
   ]
  },
  {
   "cell_type": "code",
   "execution_count": 3,
   "metadata": {},
   "outputs": [
    {
     "data": {
      "text/plain": [
       "4-element Array{Any,1}:\n",
       " 23                                            \n",
       "   [27, 216, 1000, 2197, 5832, 6859, 9261]     \n",
       "   [8, 125, 729, 1331, 2744, 3375, 4913, 12167]\n",
       "   [1, 64, 343, 512, 1728, 4096, 8000, 10648]  "
      ]
     },
     "execution_count": 3,
     "metadata": {},
     "output_type": "execute_result"
    }
   ],
   "source": [
    "n = 10 # I know I just said start at 11, but...\n",
    "cubes = map(x -> x^3, 1:n)\n",
    "result = []\n",
    "while isempty(result) # loop until we find a solution\n",
    "    n += 1 # ... adding one to n up front allows a quick continue\n",
    "    append!(cubes, n^3)\n",
    "    if n % 3 == 1\n",
    "        continue\n",
    "    end\n",
    "    total = sumofcubes(n)/3\n",
    "    parts = allparts(cubes, total)\n",
    "    for firstpart in parts\n",
    "        rest = filter(x -> isempty(intersect(x, firstpart)), parts)\n",
    "        for secondpart in rest\n",
    "            thirdpart = filter(x -> isempty(intersect(x, secondpart)), rest)\n",
    "            if !isempty(thirdpart)\n",
    "                result = [n,\n",
    "                    firstpart,\n",
    "                    secondpart,\n",
    "                    pop!(thirdpart)]\n",
    "            end\n",
    "        end\n",
    "    end\n",
    "end\n",
    "result "
   ]
  },
  {
   "cell_type": "markdown",
   "metadata": {},
   "source": [
    "Huzzah!\n",
    "Not the most efficient or elegant algorithm ever, but we've got a solution."
   ]
  },
  {
   "cell_type": "markdown",
   "metadata": {},
   "source": [
    "## Extra Credit\n",
    "\n",
    "Now, we are asked what the minimum number of spheres are that can be partitioned into 2, 4, 5, 6, or k sets. We've got the tools in place, we just need to change the loop a bit:\n",
    "\n",
    "1. We need to pass the number of needed sets, instead of assuming it's 3.\n",
    "2. We should also just check that the total needed for each partition is an integer.\n",
    "3. A nested loop is no longer feasible, so we have to create a recursive function."
   ]
  },
  {
   "cell_type": "code",
   "execution_count": 4,
   "metadata": {},
   "outputs": [
    {
     "data": {
      "text/plain": [
       "findpartition (generic function with 1 method)"
      ]
     },
     "execution_count": 4,
     "metadata": {},
     "output_type": "execute_result"
    }
   ],
   "source": [
    "function findpartition(parts, k)\n",
    "    if !isempty(parts)\n",
    "        if k == 1\n",
    "            return parts\n",
    "        end\n",
    "        for part in parts\n",
    "            solution = findpartition(filter(x -> isempty(intersect(x, part)), parts), k-1)\n",
    "            if !isempty(solution)\n",
    "                return append!([part], solution)\n",
    "            end\n",
    "        end\n",
    "    end\n",
    "    return []\n",
    "end"
   ]
  },
  {
   "cell_type": "code",
   "execution_count": 5,
   "metadata": {},
   "outputs": [
    {
     "data": {
      "text/plain": [
       "partitioncubes (generic function with 1 method)"
      ]
     },
     "execution_count": 5,
     "metadata": {},
     "output_type": "execute_result"
    }
   ],
   "source": [
    "function partitioncubes(k)\n",
    "    if k == 1\n",
    "        return [[1], [1]]\n",
    "    end\n",
    "    n = 4k - 2 # if n > 1, this is the lowest n for which k*n^3 is less than the sum of the fist n cubes\n",
    "    cubes = map(x -> x^3, 1:n)\n",
    "    result = []\n",
    "    while true\n",
    "        total = sumofcubes(n)/k\n",
    "        if total % 1 == 0 # no fractional part\n",
    "            parts = allparts(cubes, total)\n",
    "            result = findpartition(parts, k)\n",
    "            if !isempty(result)\n",
    "                break # while loop\n",
    "            end\n",
    "        end # if total...\n",
    "        n += 1\n",
    "        append!(cubes, n^3)\n",
    "    end # while loop\n",
    "    return append!([[n]], result)\n",
    "end"
   ]
  },
  {
   "cell_type": "markdown",
   "metadata": {},
   "source": [
    "Let's see how this goes:"
   ]
  },
  {
   "cell_type": "code",
   "execution_count": 6,
   "metadata": {},
   "outputs": [
    {
     "data": {
      "text/plain": [
       "3-element Array{Array{Int64,1},1}:\n",
       " [12]                           \n",
       " [1, 8, 64, 512, 729, 1728]     \n",
       " [27, 125, 216, 343, 1000, 1331]"
      ]
     },
     "execution_count": 6,
     "metadata": {},
     "output_type": "execute_result"
    }
   ],
   "source": [
    "partitioncubes(2)"
   ]
  },
  {
   "cell_type": "code",
   "execution_count": 7,
   "metadata": {},
   "outputs": [
    {
     "data": {
      "text/plain": [
       "4-element Array{Array{Int64,1},1}:\n",
       " [23]                                        \n",
       " [1, 64, 343, 512, 1728, 4096, 8000, 10648]  \n",
       " [8, 125, 729, 1331, 2744, 3375, 4913, 12167]\n",
       " [27, 216, 1000, 2197, 5832, 6859, 9261]     "
      ]
     },
     "execution_count": 7,
     "metadata": {},
     "output_type": "execute_result"
    }
   ],
   "source": [
    "partitioncubes(3) # better get 23"
   ]
  },
  {
   "cell_type": "code",
   "execution_count": 8,
   "metadata": {},
   "outputs": [
    {
     "data": {
      "text/plain": [
       "5-element Array{Array{Int64,1},1}:\n",
       " [24]                                          \n",
       " [1, 8, 27, 64, 2744, 5832, 13824]             \n",
       " [125, 216, 512, 1331, 2197, 3375, 4096, 10648]\n",
       " [343, 729, 9261, 12167]                       \n",
       " [1000, 1728, 4913, 6859, 8000]                "
      ]
     },
     "execution_count": 8,
     "metadata": {},
     "output_type": "execute_result"
    }
   ],
   "source": [
    "partitioncubes(4)"
   ]
  },
  {
   "cell_type": "code",
   "execution_count": 9,
   "metadata": {},
   "outputs": [
    {
     "data": {
      "text/plain": [
       "6-element Array{Array{Int64,1},1}:\n",
       " [24]                                    \n",
       " [1, 5832, 12167]                        \n",
       " [8, 64, 729, 3375, 13824]               \n",
       " [27, 125, 1728, 6859, 9261]             \n",
       " [216, 343, 1000, 1331, 2197, 4913, 8000]\n",
       " [512, 2744, 4096, 10648]                "
      ]
     },
     "execution_count": 9,
     "metadata": {},
     "output_type": "execute_result"
    }
   ],
   "source": [
    "partitioncubes(5)"
   ]
  },
  {
   "cell_type": "code",
   "execution_count": 10,
   "metadata": {},
   "outputs": [
    {
     "data": {
      "text/plain": [
       "7-element Array{Array{Int64,1},1}:\n",
       " [35]                                                  \n",
       " [1, 8, 27, 125, 1000, 2197, 8000, 12167, 15625, 27000]\n",
       " [64, 729, 2744, 9261, 13824, 17576, 21952]            \n",
       " [216, 3375, 29791, 32768]                             \n",
       " [343, 512, 4913, 6859, 10648, 42875]                  \n",
       " [1331, 5832, 19683, 39304]                            \n",
       " [1728, 4096, 24389, 35937]                            "
      ]
     },
     "execution_count": 10,
     "metadata": {},
     "output_type": "execute_result"
    }
   ],
   "source": [
    "partitioncubes(6)"
   ]
  },
  {
   "cell_type": "markdown",
   "metadata": {},
   "source": [
    "Is this enough for a pattern? Probably not.\n",
    "(Previously, there was more analysis here, but the error in my original algorithm makes it irrelevant)"
   ]
  },
  {
   "cell_type": "code",
   "execution_count": 11,
   "metadata": {},
   "outputs": [
    {
     "data": {
      "text/plain": [
       "8-element Array{Array{Int64,1},1}:\n",
       " [41]                                     \n",
       " [1, 8, 27, 64, 6859, 19683, 24389, 54872]\n",
       " [125, 1728, 5832, 15625, 35937, 46656]   \n",
       " [216, 2744, 4096, 17576, 21952, 59319]   \n",
       " [343, 10648, 12167, 13824, 68921]        \n",
       " [512, 1331, 2197, 29791, 32768, 39304]   \n",
       " [729, 4913, 9261, 27000, 64000]          \n",
       " [1000, 3375, 8000, 42875, 50653]         "
      ]
     },
     "execution_count": 11,
     "metadata": {},
     "output_type": "execute_result"
    }
   ],
   "source": [
    "partitioncubes(7)"
   ]
  },
  {
   "cell_type": "markdown",
   "metadata": {},
   "source": [
    "This seems unhelpful. Perhaps there's an asymptotic result for k. Perhaps I'll see it someday."
   ]
  }
 ],
 "metadata": {
  "kernelspec": {
   "display_name": "Julia 1.0.5",
   "language": "julia",
   "name": "julia-1.0"
  },
  "language_info": {
   "file_extension": ".jl",
   "mimetype": "application/julia",
   "name": "julia",
   "version": "1.0.5"
  }
 },
 "nbformat": 4,
 "nbformat_minor": 4
}
