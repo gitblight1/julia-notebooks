{
 "cells": [
  {
   "cell_type": "markdown",
   "metadata": {},
   "source": [
    "# Spheres\n",
    "\n",
    "Fivethirtyeight's Riddler asks \"[what is the minimum number of spheres of sequential size (1,2,3, etc.) that can be divided into three equal-sized groups](https://fivethirtyeight.com/features/can-you-flip-the-magic-coin/)? By \"equal size\", the problem refers to weight, but since all the spheres in this case are made of the same material (gold, as it happens), this is equivalent to finding groups of equal volume. We can further simplify the problem: the volume of a sphere of radius $r$ is $\\frac{4}{3}\\pi r^3$; we can pull $\\frac{4}{3}\\pi$ out of each volume to make this equivalent to finding the smallest $n$ such that the first $n$ cubes can be partitioned into three groups of equal sum.\n",
    "\n",
    "I will use Julia to work this problem, in an attempt to learn more of the language. We start with a function for the sum of cubes:"
   ]
  },
  {
   "cell_type": "code",
   "execution_count": 1,
   "metadata": {},
   "outputs": [
    {
     "data": {
      "text/plain": [
       "sumofcubes (generic function with 1 method)"
      ]
     },
     "execution_count": 1,
     "metadata": {},
     "output_type": "execute_result"
    }
   ],
   "source": [
    "function sumofcubes(n)\n",
    "    return (n * (n+1) / 2)^2\n",
    "end"
   ]
  },
  {
   "cell_type": "markdown",
   "metadata": {},
   "source": [
    "The first step in finding a partitionable set is to find **one** partition, so let's create an algorithm to do that."
   ]
  },
  {
   "cell_type": "code",
   "execution_count": 2,
   "metadata": {},
   "outputs": [
    {
     "data": {
      "text/plain": [
       "findpart (generic function with 1 method)"
      ]
     },
     "execution_count": 2,
     "metadata": {},
     "output_type": "execute_result"
    }
   ],
   "source": [
    "# Algorithm:\n",
    "# Calculate one third of the sum of cubes\n",
    "# Generate a sorted list of cubes\n",
    "# For each element in the list of cubes\n",
    "#     put this element in a partition\n",
    "#     decrement the total by that amount\n",
    "#     try to find a subset of the remaining elements adding to the lower total\n",
    "\n",
    "function findpart(list, total)\n",
    "    for idx in 1:length(list)\n",
    "        elt = list[idx]\n",
    "        if elt > total\n",
    "            break # everything left is also too big\n",
    "        end\n",
    "        if elt == total # jackpot\n",
    "            return [elt]\n",
    "        end\n",
    "        rest = findpart(list[idx+1:end], total - elt)\n",
    "        if !isempty(rest)\n",
    "            return append!([elt],rest)\n",
    "        end\n",
    "    end\n",
    "    return []\n",
    "end"
   ]
  },
  {
   "cell_type": "markdown",
   "metadata": {},
   "source": [
    "We can eliminate certain values of $n$ as possibilities immediately. For one, if $n = 1 \\left(\\mod 3\\right)$, then the sum of cubes won't be divisible by 3. Also, the sum of the cubes has to be larger than three times the largest cube; the smallest $n$ where this occurs is 10, but since this is already not a possibility, we can start with $n = 11$. "
   ]
  },
  {
   "cell_type": "code",
   "execution_count": 3,
   "metadata": {},
   "outputs": [
    {
     "data": {
      "text/plain": [
       "4-element Array{Any,1}:\n",
       " 35                                                                                                               \n",
       "   [1, 8, 27, 64, 125, 216, 343, 512, 729, 1000  …  1728, 2197, 2744, 3375, 4096, 4913, 9261, 24389, 35937, 39304]\n",
       "   [5832, 12167, 19683, 21952, 29791, 42875]                                                                      \n",
       "   [6859, 8000, 10648, 13824, 15625, 17576, 27000, 32768]                                                         "
      ]
     },
     "execution_count": 3,
     "metadata": {},
     "output_type": "execute_result"
    }
   ],
   "source": [
    "n = 10 # I know I just said start at 11, but...\n",
    "cubes = map(x -> x^3, 1:n)\n",
    "result = []\n",
    "while isempty(result) # loop until we find a solution\n",
    "    n += 1 # ... adding one to n up front allows a quick continue\n",
    "    append!(cubes, n^3)\n",
    "    if n % 3 == 1\n",
    "        continue\n",
    "    end\n",
    "    total = sumofcubes(n)/3\n",
    "    firstpart = findpart(cubes, total)\n",
    "    if !isempty(firstpart)\n",
    "        secondpart = findpart(filter(x -> !(x in firstpart), cubes), total)\n",
    "        if !isempty(secondpart) # found two, third group has to work\n",
    "            result = [n, \n",
    "                firstpart, \n",
    "                secondpart, \n",
    "                filter(x -> !(x in vcat(firstpart, secondpart)), cubes)]\n",
    "            break\n",
    "        end\n",
    "    end\n",
    "end\n",
    "result "
   ]
  },
  {
   "cell_type": "markdown",
   "metadata": {},
   "source": [
    "Huzzah!\n",
    "Not the most efficient or elegant algorithm ever, but we've got a solution."
   ]
  },
  {
   "cell_type": "markdown",
   "metadata": {},
   "source": [
    "## Extra Credit\n",
    "\n",
    "Now, we are asked what the minimum number of spheres are that can be partitioned into 2, 4, 5, 6, or k sets. We've got the tools in place, we just need to change the loop a bit:\n",
    "\n",
    "1. We need to pass the number of needed sets, instead of assuming it's 3.\n",
    "2. We should also just check that the total needed for each partition is an integer.\n",
    "3. A nested loop is no longer feasible, so we have to create a recursive function."
   ]
  },
  {
   "cell_type": "code",
   "execution_count": 4,
   "metadata": {},
   "outputs": [
    {
     "data": {
      "text/plain": [
       "partitioncubes (generic function with 1 method)"
      ]
     },
     "execution_count": 4,
     "metadata": {},
     "output_type": "execute_result"
    }
   ],
   "source": [
    "function partitioncubes(k)\n",
    "    if k == 1\n",
    "        return [[1], [1]]\n",
    "    end\n",
    "    n = 4k - 2 # if n > 1, this is the lowest n for which k*n^3 is less than the sum of the fist n cubes\n",
    "    result = []\n",
    "    while true\n",
    "        total = sumofcubes(n)/k\n",
    "        if total % 1 == 0 # no fractional part\n",
    "            cubes = map(x -> x^3, 1:n) # we're going to filter this list in place, so recreate it every time\n",
    "            for j = 1:k\n",
    "                part = findpart(cubes, total)\n",
    "                if isempty(part)\n",
    "                    empty!(result) # reset the result\n",
    "                    break # for loop\n",
    "                else\n",
    "                    push!(result, part)\n",
    "                    filter!(x -> !(x in part), cubes)\n",
    "                end # ifelse\n",
    "            end # for loop\n",
    "            if !isempty(result)\n",
    "                break # while loop\n",
    "            end\n",
    "        end # if total...\n",
    "        n += 1\n",
    "    end # while loop\n",
    "    return append!([[n]], result)\n",
    "end"
   ]
  },
  {
   "cell_type": "markdown",
   "metadata": {},
   "source": [
    "Let's see how this goes:"
   ]
  },
  {
   "cell_type": "code",
   "execution_count": 5,
   "metadata": {},
   "outputs": [
    {
     "data": {
      "text/plain": [
       "3-element Array{Array{Int64,1},1}:\n",
       " [12]                           \n",
       " [1, 8, 64, 512, 729, 1728]     \n",
       " [27, 125, 216, 343, 1000, 1331]"
      ]
     },
     "execution_count": 5,
     "metadata": {},
     "output_type": "execute_result"
    }
   ],
   "source": [
    "partitioncubes(2)"
   ]
  },
  {
   "cell_type": "code",
   "execution_count": 6,
   "metadata": {},
   "outputs": [
    {
     "data": {
      "text/plain": [
       "4-element Array{Array{Int64,1},1}:\n",
       " [35]                                                                                                           \n",
       " [1, 8, 27, 64, 125, 216, 343, 512, 729, 1000  …  1728, 2197, 2744, 3375, 4096, 4913, 9261, 24389, 35937, 39304]\n",
       " [5832, 12167, 19683, 21952, 29791, 42875]                                                                      \n",
       " [6859, 8000, 10648, 13824, 15625, 17576, 27000, 32768]                                                         "
      ]
     },
     "execution_count": 6,
     "metadata": {},
     "output_type": "execute_result"
    }
   ],
   "source": [
    "partitioncubes(3) # better get 35"
   ]
  },
  {
   "cell_type": "code",
   "execution_count": 7,
   "metadata": {},
   "outputs": [
    {
     "data": {
      "text/plain": [
       "5-element Array{Array{Int64,1},1}:\n",
       " [99]                                                                                                                            \n",
       " [1, 8, 27, 64, 125, 216, 343, 512, 729, 1000  …  185193, 195112, 205379, 216000, 226981, 238328, 262144, 357911, 778688, 912673]\n",
       " [250047, 274625, 287496, 300763, 314432, 328509, 373248, 389017, 438976, 512000, 551368, 571787, 729000, 804357]                \n",
       " [343000, 456533, 493039, 531441, 614125, 636056, 658503, 704969, 830584, 857375]                                                \n",
       " [405224, 421875, 474552, 592704, 681472, 753571, 884736, 941192, 970299]                                                        "
      ]
     },
     "execution_count": 7,
     "metadata": {},
     "output_type": "execute_result"
    }
   ],
   "source": [
    "partitioncubes(4)"
   ]
  },
  {
   "cell_type": "code",
   "execution_count": 8,
   "metadata": {},
   "outputs": [
    {
     "data": {
      "text/plain": [
       "6-element Array{Array{Int64,1},1}:\n",
       " [174]                                                                                                                                                                                  \n",
       " [1, 8, 27, 64, 125, 216, 343, 512, 729, 1000  …  1157625, 1191016, 1225043, 1259712, 1404928, 1685159, 1906624, 2000376, 2146689, 2571353]                                             \n",
       " [1295029, 1331000, 1367631, 1442897, 1481544, 1520875, 1560896, 1601613, 1643032, 1728000  …  1860867, 1953125, 2048383, 2097152, 2197000, 2352637, 2744000, 3869893, 4019679, 4657463]\n",
       " [2248091, 2299968, 2406104, 2460375, 2515456, 2628072, 2803221, 2985984, 3241792, 4096000, 4173281, 4492125, 4741632, 5268024]                                                         \n",
       " [2685619, 2863288, 3307949, 3375000, 3442951, 3511808, 3944312, 4330747, 4410944, 4574296, 4913000, 5000211]                                                                           \n",
       " [2924207, 3048625, 3112136, 3176523, 3581577, 3652264, 3723875, 3796416, 4251528, 4826809, 5088448, 5177717]                                                                           "
      ]
     },
     "execution_count": 8,
     "metadata": {},
     "output_type": "execute_result"
    }
   ],
   "source": [
    "partitioncubes(5)"
   ]
  },
  {
   "cell_type": "code",
   "execution_count": 9,
   "metadata": {},
   "outputs": [
    {
     "data": {
      "text/plain": [
       "7-element Array{Array{Int64,1},1}:\n",
       " [215]                                                                                                                                                                                  \n",
       " [1, 8, 27, 64, 125, 216, 343, 512, 729, 1000  …  2000376, 2048383, 2097152, 2146689, 2197000, 2803221, 3048625, 3511808, 3581577, 4410944]                                             \n",
       " [2248091, 2299968, 2352637, 2406104, 2460375, 2515456, 2571353, 2628072, 2685619, 2744000  …  3375000, 3442951, 3652264, 3723875, 4019679, 4096000, 4251528, 4492125, 5639752, 6644672]\n",
       " [3796416, 3869893, 3944312, 4173281, 4330747, 4574296, 4657463, 4741632, 4826809, 4913000, 5088448, 5268024, 6028568, 6128487, 6229504, 7762392, 9528128]                              \n",
       " [5000211, 5177717, 5359375, 5451776, 5735339, 7189057, 7414875, 7529536, 7645373, 7880599, 8120601, 8615125, 8741816]                                                                  \n",
       " [5545233, 5832000, 6539203, 6751269, 6859000, 6967871, 7077888, 8000000, 8365427, 8998912, 9261000, 9663597]                                                                           \n",
       " [5929741, 6331625, 6434856, 7301384, 8242408, 8489664, 8869743, 9129329, 9393931, 9800344, 9938375]                                                                                    "
      ]
     },
     "execution_count": 9,
     "metadata": {},
     "output_type": "execute_result"
    }
   ],
   "source": [
    "partitioncubes(6)"
   ]
  },
  {
   "cell_type": "markdown",
   "metadata": {},
   "source": [
    "Is this enough for a pattern? The results themselves aren't very helpful. But notice that the first partition each time contains a long set of consecutive cubes. Perhaps this will give us insight?"
   ]
  },
  {
   "cell_type": "code",
   "execution_count": 10,
   "metadata": {},
   "outputs": [
    {
     "data": {
      "text/plain": [
       "consecutivecubes (generic function with 1 method)"
      ]
     },
     "execution_count": 10,
     "metadata": {},
     "output_type": "execute_result"
    }
   ],
   "source": [
    "function consecutivecubes(k)\n",
    "    part = partitioncubes(k)[2] # partition contaiing the smallest cubes\n",
    "    current = 1\n",
    "    while current^3 in part\n",
    "        current += 1\n",
    "    end\n",
    "    return current - 1 # this is a silly way to do this, isn't it?\n",
    "end"
   ]
  },
  {
   "cell_type": "code",
   "execution_count": 11,
   "metadata": {},
   "outputs": [
    {
     "data": {
      "text/plain": [
       "2"
      ]
     },
     "execution_count": 11,
     "metadata": {},
     "output_type": "execute_result"
    }
   ],
   "source": [
    "consecutivecubes(2) # should be 2"
   ]
  },
  {
   "cell_type": "code",
   "execution_count": 12,
   "metadata": {},
   "outputs": [
    {
     "data": {
      "text/plain": [
       "17"
      ]
     },
     "execution_count": 12,
     "metadata": {},
     "output_type": "execute_result"
    }
   ],
   "source": [
    "consecutivecubes(3) # should be 17"
   ]
  },
  {
   "cell_type": "code",
   "execution_count": 13,
   "metadata": {},
   "outputs": [
    {
     "name": "stdout",
     "output_type": "stream",
     "text": [
      "62\n",
      "108\n",
      "130\n"
     ]
    }
   ],
   "source": [
    "println(consecutivecubes(4))\n",
    "println(consecutivecubes(5))\n",
    "println(consecutivecubes(6))"
   ]
  },
  {
   "cell_type": "code",
   "execution_count": 14,
   "metadata": {},
   "outputs": [
    {
     "data": {
      "text/plain": [
       "8-element Array{Array{Int64,1},1}:\n",
       " [272]                                                                                                                                                                                      \n",
       " [1, 8, 27, 64, 125, 216, 343, 512, 729, 1000  …  3723875, 3796416, 3869893, 3944312, 4019679, 4096000, 5832000, 7077888, 7762392, 10360232]                                                \n",
       " [4173281, 4251528, 4330747, 4410944, 4492125, 4574296, 4657463, 4741632, 4826809, 4913000  …  6229504, 6331625, 6434856, 6539203, 6644672, 6751269, 8615125, 10941048, 12008989, 14706125] \n",
       " [6859000, 6967871, 7189057, 7301384, 7414875, 7529536, 7645373, 7880599, 8000000, 8120601  …  8489664, 8741816, 8869743, 8998912, 9800344, 9938375, 10077696, 10793861, 12326391, 17373979]\n",
       " [9129329, 9261000, 9393931, 9528128, 9663597, 10218313, 10503459, 10648000, 11089567, 11239424, 12487168, 13144256, 13312053, 13481272, 13651919, 14172488, 16003008]                      \n",
       " [11390625, 11543176, 11697083, 11852352, 13997521, 14526784, 14886936, 15813251, 17173512, 17576000, 18399744, 18821096, 19248832]                                                         \n",
       " [12167000, 12812904, 13824000, 15438249, 16194277, 16387064, 16581375, 17779581, 17984728, 18609625, 19465109, 19683000]                                                                   \n",
       " [12649337, 12977875, 14348907, 15069223, 15252992, 15625000, 16777216, 16974593, 18191447, 19034163, 19902511, 20123648]                                                                   "
      ]
     },
     "execution_count": 14,
     "metadata": {},
     "output_type": "execute_result"
    }
   ],
   "source": [
    "a = partitioncubes(7)"
   ]
  },
  {
   "cell_type": "code",
   "execution_count": 15,
   "metadata": {},
   "outputs": [
    {
     "data": {
      "text/plain": [
       "160"
      ]
     },
     "execution_count": 15,
     "metadata": {},
     "output_type": "execute_result"
    }
   ],
   "source": [
    "maximum(filter(x->x^3 in a[2], 1:length(a[2]))) # perhaps a more \"Juliaic\" way to do this?"
   ]
  },
  {
   "cell_type": "markdown",
   "metadata": {},
   "source": [
    "This seems unhelpful. Perhaps there's an asymptotic result for k. Perhaps I'll see it someday."
   ]
  }
 ],
 "metadata": {
  "kernelspec": {
   "display_name": "Julia 1.0.5",
   "language": "julia",
   "name": "julia-1.0"
  },
  "language_info": {
   "file_extension": ".jl",
   "mimetype": "application/julia",
   "name": "julia",
   "version": "1.0.5"
  }
 },
 "nbformat": 4,
 "nbformat_minor": 4
}
