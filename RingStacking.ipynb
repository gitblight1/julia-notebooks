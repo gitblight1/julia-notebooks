{
 "cells": [
  {
   "cell_type": "markdown",
   "metadata": {},
   "source": [
    "# Ring Toss\n",
    "\n",
    "Fivethirtyeight's Riddler asks \"[how many ways can you stack](https://fivethirtyeight.com/features/can-you-make-24/) a [Rock-a-Stack](https://www.fisher-price.com/en-us/product/rock-a-stack-fgw58)?\"\n",
    "\n",
    "The only rule for stacking is that the $k^{th}$ smallest ring will stop at position $k$ (the top being position 1), so a ring out of place will necessarily decrease the number of rings we can stack. We'll number the rings $1, 2, \\ldots, N$ from smallest to largest (for the main example, $N = 5$). "
   ]
  },
  {
   "cell_type": "markdown",
   "metadata": {},
   "source": [
    "Let $S_N$ be the number of ways to stack with $N$ rings. If we choose ring $k$ first, any larger ring fits on top. For example, if we start with ring 4, ring 5 or ring 3 will fit with no gaps. (We will, apparently, ignore the possibility that a particularly large ring fits entirely over a smaller ring.) Let $S_{N,k}$ be the number of possible stacks if we choose ring $k$ first (so $S_N = \\sum_{k=1}^{N}S_{N,k}$). We can calculate this directly for some small values of $k$:\n",
    "\n",
    "- If we choose ring 1, we're done. $S_{N,1} = 1$\n",
    "- If we choose ring 2, we can choose any other ring to fit on top of it. $S_{N,2}$ = $N-1$\n",
    "- If we choose ring 3, we can pick ring 1 next, and be done, or we can pick any of the other $N-2$ rings, then pick any of the remaining $N-2$ rings (including ring 1). $S_{N,3} = (N-2)^2 + 1$\n",
    "\n",
    "From there, it starts getting complicated. But what we can see is that if we choose ring $k$, the smaller rings are equivalent to a $(k-1)$-ring stack. Further, choosing a larger ring next is effectively the same as choosing ring $k-1$ at this point, since it will fit in the same position, so the number of stacks we get if we choose the larger ring is the same as the number of stacks from choosing ring $k-1$. Effectively, this is like having $N-(k-1)$ copies of ring $k-1$. Put mathematically, \n",
    "$$S_{N,k} = (N-k+1)S_{N-1,k-1} + \\sum_{i=1}^{k-2}S_{N-1,i}$$"
   ]
  },
  {
   "cell_type": "code",
   "execution_count": 1,
   "metadata": {},
   "outputs": [
    {
     "data": {
      "text/plain": [
       "substacks (generic function with 1 method)"
      ]
     },
     "execution_count": 1,
     "metadata": {},
     "output_type": "execute_result"
    }
   ],
   "source": [
    "function stackrings(N)\n",
    "    numstacks = 0\n",
    "    for k in 1:N\n",
    "        numstacks += substacks(N,k)\n",
    "    end\n",
    "    return numstacks\n",
    "end\n",
    "\n",
    "function substacks(N, k)\n",
    "    if k == 1\n",
    "        return 1\n",
    "    end\n",
    "    return (N-k+1)*substacks(N-1,k-1) + sum([substacks(N-1,i) for i in 1:(k-2)])\n",
    "end"
   ]
  },
  {
   "cell_type": "code",
   "execution_count": 2,
   "metadata": {},
   "outputs": [
    {
     "data": {
      "text/plain": [
       "10-element Array{Int64,1}:\n",
       "     1\n",
       "     2\n",
       "     5\n",
       "    14\n",
       "    43\n",
       "   144\n",
       "   523\n",
       "  2048\n",
       "  8597\n",
       " 38486"
      ]
     },
     "execution_count": 2,
     "metadata": {},
     "output_type": "execute_result"
    }
   ],
   "source": [
    "[stackrings(N) for N in 1:10]"
   ]
  },
  {
   "cell_type": "markdown",
   "metadata": {},
   "source": [
    "Plugging these results into OEIS, we get [sequence A047970](https://oeis.org/A047970). No closed form for this sequence is listed, but it is the \"antidiagonal sum of the [nexus numbers](https://oeis.org/A047969)\", which *do* have a formula:\n",
    "$$a(n,k) = (n+1)^{k+1} - n^{k+1}, n \\geq 0, k \\geq 0$$\n",
    "\n",
    "If this is correct, then $S_N$ should satisfy:\n",
    "$$S_N = \\sum_{k=0}^{N-1} a(n-k-1, k)$$\n",
    "(note that since we start at $N=1$, and the nexus numbers start at $n=0$, we are subtracting one from N in the formula)\n",
    "\n",
    "For example, $S_4 = a(3,0) + a(2,1) + a(1,2) + a(0,3) = 1 + 5 + 7 + 1 = 14$.\n",
    "\n",
    "Substituting the formula for $a(n,k)$, we get\n",
    "$$S_N = \\sum_{k=0}^{N-1} (N-k)^{k+1}-(N-k-1)^{k+1}$$\n",
    "or\n",
    "$$S_N = \\sum_{k=1}^N (N-k+1)^{k}-(N-k)^{k}$$\n",
    "\n",
    "Let's see if we get a match:"
   ]
  },
  {
   "cell_type": "code",
   "execution_count": 3,
   "metadata": {},
   "outputs": [
    {
     "data": {
      "text/plain": [
       "stackrings2 (generic function with 1 method)"
      ]
     },
     "execution_count": 3,
     "metadata": {},
     "output_type": "execute_result"
    }
   ],
   "source": [
    "function nexus(n,k)\n",
    "    return (n+1)^(k+1) - n^(k+1)\n",
    "end\n",
    "\n",
    "function stackrings2(N)\n",
    "    return sum([nexus(N-k-1, k) for k in 0:(N-1)])\n",
    "end"
   ]
  },
  {
   "cell_type": "code",
   "execution_count": 4,
   "metadata": {},
   "outputs": [
    {
     "data": {
      "text/plain": [
       "10-element Array{Int64,1}:\n",
       "     1\n",
       "     2\n",
       "     5\n",
       "    14\n",
       "    43\n",
       "   144\n",
       "   523\n",
       "  2048\n",
       "  8597\n",
       " 38486"
      ]
     },
     "execution_count": 4,
     "metadata": {},
     "output_type": "execute_result"
    }
   ],
   "source": [
    "[stackrings2(N) for N in 1:10]"
   ]
  },
  {
   "cell_type": "markdown",
   "metadata": {},
   "source": [
    "Huzzah! Kind of surprising OEIS doesn't list that formula."
   ]
  }
 ],
 "metadata": {
  "kernelspec": {
   "display_name": "Julia 1.0.5",
   "language": "julia",
   "name": "julia-1.0"
  },
  "language_info": {
   "file_extension": ".jl",
   "mimetype": "application/julia",
   "name": "julia",
   "version": "1.0.5"
  }
 },
 "nbformat": 4,
 "nbformat_minor": 4
}
