{
 "cells": [
  {
   "cell_type": "markdown",
   "metadata": {},
   "source": [
    "# Mackerels\n",
    "\n",
    "Fivethirtyeight's Riddler asks \"[what is the longest word that has no letters in common with the name of *exactly one* U.S. state](https://fivethirtyeight.com/features/somethings-fishy-in-the-state-of-the-riddler/)? Examples given are the word \"mackerel\" (which has a letter in common with every state except Ohio), \"goldfish\" (Kentucky) \"jellyfish\" (Montana), and \"monkfish\" (Delaware). Given a word list, we can find each state's \"mackerels\" using set intersections. In particular, for any given word, we will find the state names with no letters in common with that word; if there is exactly one state, that word is a mackerel for that state.\n",
    "\n",
    "I will use Julia to work this problem, in an attempt to learn more of the language. We start by getting the provided word list:"
   ]
  },
  {
   "cell_type": "code",
   "execution_count": 1,
   "metadata": {},
   "outputs": [],
   "source": [
    "using HTTP, Gumbo"
   ]
  },
  {
   "cell_type": "code",
   "execution_count": 2,
   "metadata": {},
   "outputs": [],
   "source": [
    "res = HTTP.get(\"https://norvig.com/ngrams/word.list\")\n",
    "html = parsehtml(String(res.body));"
   ]
  },
  {
   "cell_type": "code",
   "execution_count": 3,
   "metadata": {},
   "outputs": [
    {
     "data": {
      "text/plain": [
       "263533-element Array{SubString{String},1}:\n",
       " \"aa\"          \n",
       " \"aah\"         \n",
       " \"aahed\"       \n",
       " \"aahing\"      \n",
       " \"aahs\"        \n",
       " \"aal\"         \n",
       " \"aalii\"       \n",
       " \"aaliis\"      \n",
       " \"aals\"        \n",
       " \"aardvark\"    \n",
       " \"aardvarks\"   \n",
       " \"aardwolf\"    \n",
       " \"aardwolves\"  \n",
       " ⋮             \n",
       " \"zymotechnics\"\n",
       " \"zymotic\"     \n",
       " \"zymotically\" \n",
       " \"zymotics\"    \n",
       " \"zymurgic\"    \n",
       " \"zymurgies\"   \n",
       " \"zymurgy\"     \n",
       " \"zythum\"      \n",
       " \"zythums\"     \n",
       " \"zyzzyva\"     \n",
       " \"zyzzyvas\"    \n",
       " \"zzz\"         "
      ]
     },
     "execution_count": 3,
     "metadata": {},
     "output_type": "execute_result"
    }
   ],
   "source": [
    "wordlist = split(html.root[2][1].text)"
   ]
  },
  {
   "cell_type": "markdown",
   "metadata": {},
   "source": [
    "We also need a list of states (preferably in lowercase, so we don't have to deal with case-sensitivity later):"
   ]
  },
  {
   "cell_type": "code",
   "execution_count": 4,
   "metadata": {},
   "outputs": [],
   "source": [
    "statelist=[\"alabama\"; \"alaska\"; \"arizona\"; \"arkansas\"; \"california\"; \"colorado\"; \"connecticut\"; \"delaware\"; \"florida\"; \"georgia\"; \"hawaii\"; \"idaho\"; \"illinois\"; \"indiana\"; \"iowa\"; \"kansas\"; \"kentucky\"; \"louisiana\"; \"maine\"; \"maryland\"; \"massachusetts\"; \"michigan\"; \"minnesota\"; \"mississippi\"; \"missouri\"; \"montana\"; \"nebraska\"; \"nevada\"; \"new hampshire\"; \"new jersey\"; \"new mexico\"; \"new york\"; \"north carolina\"; \"north dakota\"; \"ohio\"; \"oklahoma\"; \"oregon\"; \"pennsylvania\"; \"rhode island\"; \"south carolina\"; \"south dakota\"; \"tennessee\"; \"texas\"; \"utah\"; \"vermont\"; \"virginia\"; \"washington\"; \"west virginia\"; \"wisconsin\"; \"wyoming\"];"
   ]
  },
  {
   "cell_type": "markdown",
   "metadata": {},
   "source": [
    "## Build the list of mackerels\n",
    "\n",
    "We start by creating an empty dictionary to hold the list of each state's mackerels. We'll also save the length of the longest mackerel; this will come in handy later."
   ]
  },
  {
   "cell_type": "code",
   "execution_count": 5,
   "metadata": {},
   "outputs": [
    {
     "data": {
      "text/plain": [
       "Dict{String,Dict{String,Any}} with 50 entries:\n",
       "  \"maryland\"      => Dict{String,Any}(\"maxlength\"=>0,\"words\"=>Any[])\n",
       "  \"missouri\"      => Dict{String,Any}(\"maxlength\"=>0,\"words\"=>Any[])\n",
       "  \"new mexico\"    => Dict{String,Any}(\"maxlength\"=>0,\"words\"=>Any[])\n",
       "  \"wyoming\"       => Dict{String,Any}(\"maxlength\"=>0,\"words\"=>Any[])\n",
       "  \"delaware\"      => Dict{String,Any}(\"maxlength\"=>0,\"words\"=>Any[])\n",
       "  \"washington\"    => Dict{String,Any}(\"maxlength\"=>0,\"words\"=>Any[])\n",
       "  \"kentucky\"      => Dict{String,Any}(\"maxlength\"=>0,\"words\"=>Any[])\n",
       "  \"iowa\"          => Dict{String,Any}(\"maxlength\"=>0,\"words\"=>Any[])\n",
       "  \"colorado\"      => Dict{String,Any}(\"maxlength\"=>0,\"words\"=>Any[])\n",
       "  \"oklahoma\"      => Dict{String,Any}(\"maxlength\"=>0,\"words\"=>Any[])\n",
       "  \"california\"    => Dict{String,Any}(\"maxlength\"=>0,\"words\"=>Any[])\n",
       "  \"rhode island\"  => Dict{String,Any}(\"maxlength\"=>0,\"words\"=>Any[])\n",
       "  \"illinois\"      => Dict{String,Any}(\"maxlength\"=>0,\"words\"=>Any[])\n",
       "  \"pennsylvania\"  => Dict{String,Any}(\"maxlength\"=>0,\"words\"=>Any[])\n",
       "  \"tennessee\"     => Dict{String,Any}(\"maxlength\"=>0,\"words\"=>Any[])\n",
       "  \"montana\"       => Dict{String,Any}(\"maxlength\"=>0,\"words\"=>Any[])\n",
       "  \"mississippi\"   => Dict{String,Any}(\"maxlength\"=>0,\"words\"=>Any[])\n",
       "  \"nebraska\"      => Dict{String,Any}(\"maxlength\"=>0,\"words\"=>Any[])\n",
       "  \"vermont\"       => Dict{String,Any}(\"maxlength\"=>0,\"words\"=>Any[])\n",
       "  \"florida\"       => Dict{String,Any}(\"maxlength\"=>0,\"words\"=>Any[])\n",
       "  \"massachusetts\" => Dict{String,Any}(\"maxlength\"=>0,\"words\"=>Any[])\n",
       "  \"west virginia\" => Dict{String,Any}(\"maxlength\"=>0,\"words\"=>Any[])\n",
       "  \"oregon\"        => Dict{String,Any}(\"maxlength\"=>0,\"words\"=>Any[])\n",
       "  \"michigan\"      => Dict{String,Any}(\"maxlength\"=>0,\"words\"=>Any[])\n",
       "  \"new hampshire\" => Dict{String,Any}(\"maxlength\"=>0,\"words\"=>Any[])\n",
       "  ⋮               => ⋮"
      ]
     },
     "execution_count": 5,
     "metadata": {},
     "output_type": "execute_result"
    }
   ],
   "source": [
    "mackerels = Dict(state => Dict(\"maxlength\" => 0, \"words\" => []) for state in statelist)"
   ]
  },
  {
   "cell_type": "markdown",
   "metadata": {},
   "source": [
    "Now, loop through the word list. Any word that has no letters in common with *exactly* one state is added to that state's list of mackerels. In theory, we could do this faster by looping through the state list separately, and breaking out of that loop as soon as we found a second state with no common letters, but modern processor speeds mean we don't need to prematurely optimize, amirite?"
   ]
  },
  {
   "cell_type": "code",
   "execution_count": 6,
   "metadata": {},
   "outputs": [],
   "source": [
    "for word in wordlist\n",
    "    commonstates = filter(state -> isempty(intersect(word, state)), statelist)\n",
    "    if length(commonstates) == 1\n",
    "        push!(mackerels[commonstates[1]][\"words\"], word)\n",
    "        if length(word) > mackerels[commonstates[1]][\"maxlength\"]\n",
    "            mackerels[commonstates[1]][\"maxlength\"] = length(word)\n",
    "        end\n",
    "    end\n",
    "end"
   ]
  },
  {
   "cell_type": "code",
   "execution_count": 7,
   "metadata": {},
   "outputs": [
    {
     "data": {
      "text/plain": [
       "Dict{String,Dict{String,Any}} with 50 entries:\n",
       "  \"maryland\"      => Dict{String,Any}(\"maxlength\"=>13,\"words\"=>Any[\"beechiest\",…\n",
       "  \"missouri\"      => Dict{String,Any}(\"maxlength\"=>12,\"words\"=>Any[\"acalephan\",…\n",
       "  \"new mexico\"    => Dict{String,Any}(\"maxlength\"=>13,\"words\"=>Any[\"ashtray\", \"…\n",
       "  \"wyoming\"       => Dict{String,Any}(\"maxlength\"=>15,\"words\"=>Any[\"abashed\", \"…\n",
       "  \"delaware\"      => Dict{String,Any}(\"maxlength\"=>17,\"words\"=>Any[\"bionts\", \"b…\n",
       "  \"washington\"    => Dict{String,Any}(\"maxlength\"=>0,\"words\"=>Any[])\n",
       "  \"kentucky\"      => Dict{String,Any}(\"maxlength\"=>15,\"words\"=>Any[\"abhors\", \"a…\n",
       "  \"iowa\"          => Dict{String,Any}(\"maxlength\"=>16,\"words\"=>Any[\"bedrenches\"…\n",
       "  \"colorado\"      => Dict{String,Any}(\"maxlength\"=>16,\"words\"=>Any[\"begunking\",…\n",
       "  \"oklahoma\"      => Dict{String,Any}(\"maxlength\"=>19,\"words\"=>Any[\"becrusting\"…\n",
       "  \"california\"    => Dict{String,Any}(\"maxlength\"=>0,\"words\"=>Any[])\n",
       "  \"rhode island\"  => Dict{String,Any}(\"maxlength\"=>0,\"words\"=>Any[])\n",
       "  \"illinois\"      => Dict{String,Any}(\"maxlength\"=>12,\"words\"=>Any[\"aechmea\", \"…\n",
       "  \"pennsylvania\"  => Dict{String,Any}(\"maxlength\"=>0,\"words\"=>Any[])\n",
       "  \"tennessee\"     => Dict{String,Any}(\"maxlength\"=>18,\"words\"=>Any[\"abrachia\", …\n",
       "  \"montana\"       => Dict{String,Any}(\"maxlength\"=>15,\"words\"=>Any[\"bedellship\"…\n",
       "  \"mississippi\"   => Dict{String,Any}(\"maxlength\"=>23,\"words\"=>Any[\"abactor\", \"…\n",
       "  \"nebraska\"      => Dict{String,Any}(\"maxlength\"=>0,\"words\"=>Any[])\n",
       "  \"vermont\"       => Dict{String,Any}(\"maxlength\"=>12,\"words\"=>Any[\"aguishly\", …\n",
       "  \"florida\"       => Dict{String,Any}(\"maxlength\"=>0,\"words\"=>Any[])\n",
       "  \"massachusetts\" => Dict{String,Any}(\"maxlength\"=>0,\"words\"=>Any[])\n",
       "  \"west virginia\" => Dict{String,Any}(\"maxlength\"=>0,\"words\"=>Any[])\n",
       "  \"oregon\"        => Dict{String,Any}(\"maxlength\"=>16,\"words\"=>Any[\"ability\", \"…\n",
       "  \"michigan\"      => Dict{String,Any}(\"maxlength\"=>13,\"words\"=>Any[\"bestrowed\",…\n",
       "  \"new hampshire\" => Dict{String,Any}(\"maxlength\"=>0,\"words\"=>Any[])\n",
       "  ⋮               => ⋮"
      ]
     },
     "execution_count": 7,
     "metadata": {},
     "output_type": "execute_result"
    }
   ],
   "source": [
    "mackerels"
   ]
  },
  {
   "cell_type": "markdown",
   "metadata": {},
   "source": [
    "The first thing you might notice is that several states have no mackerels. Probably, this isn't surprising; \"Nebraska\", for example, has no unique letters among the states.\n",
    "\n",
    "### Find the longest words\n",
    "Since we've saved the length of the longest mackerel for each state, we can find the longest overall by looking for the largest value(s), then grabbing only words of that length from the corresponding word list(s)."
   ]
  },
  {
   "cell_type": "code",
   "execution_count": 8,
   "metadata": {},
   "outputs": [
    {
     "data": {
      "text/plain": [
       "Dict{String,Array{Any,1}} with 2 entries:\n",
       "  \"mississippi\" => Any[\"hydrochlorofluorocarbon\"]\n",
       "  \"alabama\"     => Any[\"counterproductivenesses\"]"
      ]
     },
     "execution_count": 8,
     "metadata": {},
     "output_type": "execute_result"
    }
   ],
   "source": [
    "maxlength = maximum(mackerels[state][\"maxlength\"] for state in statelist)\n",
    "maxstates = filter(state -> mackerels[state][\"maxlength\"] == maxlength, statelist)\n",
    "maxentries = Dict(state => filter(word -> length(word) == maxlength,\n",
    "    mackerels[state][\"words\"]) for state in maxstates)"
   ]
  },
  {
   "cell_type": "markdown",
   "metadata": {},
   "source": [
    "Look at that! There was a tie, and between neighboring states no less.\n",
    "\n",
    "### Extra Credit\n",
    "The extra credit question asks which states have the *most* mackerels. Again, we've already got the wordlists, so we can just look for the longest one."
   ]
  },
  {
   "cell_type": "code",
   "execution_count": 9,
   "metadata": {},
   "outputs": [
    {
     "data": {
      "text/plain": [
       "Dict{String,Dict{String,Any}} with 1 entry:\n",
       "  \"ohio\" => Dict{String,Any}(\"maxlength\"=>20,\"words\"=>Any[\"abamperes\", \"abands\"…"
      ]
     },
     "execution_count": 9,
     "metadata": {},
     "output_type": "execute_result"
    }
   ],
   "source": [
    "maxcount = maximum(length(mackerels[state][\"words\"]) for state in statelist)\n",
    "moststates = filter(entry -> length(last(entry)[\"words\"]) == maxcount, mackerels)"
   ]
  },
  {
   "cell_type": "code",
   "execution_count": 10,
   "metadata": {},
   "outputs": [
    {
     "data": {
      "text/plain": [
       "11342-element Array{Any,1}:\n",
       " \"abamperes\" \n",
       " \"abands\"    \n",
       " \"abasedly\"  \n",
       " \"abasement\" \n",
       " \"abasements\"\n",
       " \"abatement\" \n",
       " \"abatements\"\n",
       " \"abbeys\"    \n",
       " \"abducens\"  \n",
       " \"abducentes\"\n",
       " \"abends\"    \n",
       " \"aberrances\"\n",
       " \"aberrants\" \n",
       " ⋮           \n",
       " \"zelants\"   \n",
       " \"zemstva\"   \n",
       " \"zenanas\"   \n",
       " \"zettabytes\"\n",
       " \"zeugmas\"   \n",
       " \"zugzwangs\" \n",
       " \"zupan\"     \n",
       " \"zupans\"    \n",
       " \"zygantrum\" \n",
       " \"zygantrums\"\n",
       " \"zymase\"    \n",
       " \"zymases\"   "
      ]
     },
     "execution_count": 10,
     "metadata": {},
     "output_type": "execute_result"
    }
   ],
   "source": [
    "mackerels[\"ohio\"][\"words\"]"
   ]
  },
  {
   "cell_type": "markdown",
   "metadata": {},
   "source": [
    "Holy cow! Did not expect to see quite so long a list. Some excellent \"z\" words there.\n",
    "\n",
    "### More extra credit\n",
    "Which state has the fewest mackerels that has at least one? What is/are the *shortest* mackerel(s)?"
   ]
  },
  {
   "cell_type": "code",
   "execution_count": 11,
   "metadata": {},
   "outputs": [
    {
     "data": {
      "text/plain": [
       "Dict{String,Dict{String,Any}} with 1 entry:\n",
       "  \"michigan\" => Dict{String,Any}(\"maxlength\"=>13,\"words\"=>Any[\"bestrowed\", \"out…"
      ]
     },
     "execution_count": 11,
     "metadata": {},
     "output_type": "execute_result"
    }
   ],
   "source": [
    "# need to filter out the zero length counts this time, so use a conditional\n",
    "mincount = minimum(length(mackerels[state][\"words\"]) for state in statelist if mackerels[state][\"maxlength\"] > 0)\n",
    "leaststates = filter(entry -> length(last(entry)[\"words\"]) == mincount, mackerels)"
   ]
  },
  {
   "cell_type": "code",
   "execution_count": 12,
   "metadata": {},
   "outputs": [
    {
     "data": {
      "text/plain": [
       "4-element Array{Any,1}:\n",
       " \"bestrowed\"    \n",
       " \"outwrestled\"  \n",
       " \"overwrestled\" \n",
       " \"woodburytypes\""
      ]
     },
     "execution_count": 12,
     "metadata": {},
     "output_type": "execute_result"
    }
   ],
   "source": [
    "mackerels[\"michigan\"][\"words\"]"
   ]
  },
  {
   "cell_type": "code",
   "execution_count": 13,
   "metadata": {},
   "outputs": [
    {
     "data": {
      "text/plain": [
       "findmin (generic function with 1 method)"
      ]
     },
     "execution_count": 13,
     "metadata": {},
     "output_type": "execute_result"
    }
   ],
   "source": [
    "# we didn't save the minimum length mackerels, so this requires extra steps\n",
    "function findmin(words)\n",
    "    return minimum(length(word) for word in words)\n",
    "end"
   ]
  },
  {
   "cell_type": "code",
   "execution_count": 14,
   "metadata": {},
   "outputs": [
    {
     "data": {
      "text/plain": [
       "Dict{String,Array{Any,1}} with 1 entry:\n",
       "  \"ohio\" => Any[\"man\", \"mna\", \"nam\", \"nas\", \"san\"]"
      ]
     },
     "execution_count": 14,
     "metadata": {},
     "output_type": "execute_result"
    }
   ],
   "source": [
    "minlength = minimum(findmin(mackerels[state][\"words\"])\n",
    "    for state in statelist if mackerels[state][\"maxlength\"] > 0)\n",
    "\n",
    "minstates = filter(state -> mackerels[state][\"maxlength\"] > 0 &&\n",
    "    findmin(mackerels[state][\"words\"]) == minlength, statelist)\n",
    "\n",
    "minentries = Dict(state => filter(word -> length(word) == minlength,\n",
    "    mackerels[state][\"words\"]) for state in minstates)"
   ]
  },
  {
   "cell_type": "markdown",
   "metadata": {},
   "source": [
    "With the largest list of mackerels, it's not surprising that Ohio would have the shortest, though being unique in that regard is a surprise."
   ]
  }
 ],
 "metadata": {
  "kernelspec": {
   "display_name": "Julia 1.0.5",
   "language": "julia",
   "name": "julia-1.0"
  },
  "language_info": {
   "file_extension": ".jl",
   "mimetype": "application/julia",
   "name": "julia",
   "version": "1.0.5"
  }
 },
 "nbformat": 4,
 "nbformat_minor": 4
}
