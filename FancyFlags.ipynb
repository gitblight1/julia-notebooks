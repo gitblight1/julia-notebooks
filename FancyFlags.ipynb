{
 "cells": [
  {
   "cell_type": "markdown",
   "metadata": {},
   "source": [
    "# Fancy New Flags\n",
    "\n",
    "Fivethirtyeight's Riddler asks \"[what is the next N (after 50) that N is twice a square, and N+1 is a centered pentagonal number](https://fivethirtyeight.com/features/can-you-stay-in-your-lane/)?"
   ]
  },
  {
   "cell_type": "markdown",
   "metadata": {},
   "source": [
    "The $m^{th}$ [centered pentagonal number](https://mathworld.wolfram.com/CenteredPentagonalNumber.html) is $\\frac{5m(m-1)}{2} + 1$ (note this is somewhat different than the formula at the link. I am choosing to count from 1, i.e., the first number in the sequence is 1, whereas Mathworld considers that $a_0$, the base term in a sequence.)"
   ]
  },
  {
   "cell_type": "markdown",
   "metadata": {},
   "source": [
    "Since we want N+1 to be the pentagonal number, that means N would be $\\frac{5m(m-1)}{2}$; since N is twice a square, $\\frac{5m(m-1)}{4}$ must be a perfect square. In other words, we are looking for integer solutions $m$ and $n$ to the equation $\\frac{5m(m-1)}{4} = n^2$. We already know $m = n = 5$ is a solution, so we are looking for the next solution.\n",
    "\n",
    "We can simplify this a bit. First, though, let's start with a basic check for squares:"
   ]
  },
  {
   "cell_type": "code",
   "execution_count": 1,
   "metadata": {},
   "outputs": [
    {
     "data": {
      "text/plain": [
       "issquare (generic function with 1 method)"
      ]
     },
     "execution_count": 1,
     "metadata": {},
     "output_type": "execute_result"
    }
   ],
   "source": [
    "function issquare(x)\n",
    "    return sqrt(x) % 1 == 0\n",
    "end"
   ]
  },
  {
   "cell_type": "code",
   "execution_count": 2,
   "metadata": {},
   "outputs": [
    {
     "data": {
      "text/plain": [
       "1×3 Array{Bool,2}:\n",
       " false  true  true"
      ]
     },
     "execution_count": 2,
     "metadata": {},
     "output_type": "execute_result"
    }
   ],
   "source": [
    "[issquare(12) issquare(81) issquare(729)]"
   ]
  },
  {
   "cell_type": "markdown",
   "metadata": {},
   "source": [
    "Now, where was I? Right, simplifying. If $\\frac{5m(m-1)}{4} = n^2$, we can see that $n$ must be a multiple of 5. We can use the quadratic formula to solve for $m$ in terms of $n$:\n",
    "$$5m^2 - 5m -4n^2 = 0$$\n",
    "Which means\n",
    "$$m = \\frac{5 \\pm \\sqrt{25 + 80n^2}}{10}$$\n",
    "And if $n = 5k$, then $25 + 80n^2 = 25(1 + 80k^2)$. So, we are looking for the next number $k$ (after $k=1$) such that $1 + 80k^2$ is a square. Let's loop:"
   ]
  },
  {
   "cell_type": "code",
   "execution_count": 3,
   "metadata": {},
   "outputs": [
    {
     "name": "stdout",
     "output_type": "stream",
     "text": [
      "k = 18, n = 90, N = 16200\n"
     ]
    }
   ],
   "source": [
    "k = 2\n",
    "while !issquare(80*k^2 + 1)\n",
    "    k += 1\n",
    "end\n",
    "println(\"k = $k, n = $(5*k), N = $(50*k^2)\")"
   ]
  },
  {
   "cell_type": "markdown",
   "metadata": {},
   "source": [
    "And there you have it. We're going to have to add a lot of states to get this opportunity again.\n",
    "By the way, $m$ would be 81 in this case. If we had looked for possible values of $m$ instead of $n$, we might have arrived at this quickly, as we would conculde that $m$ must be a) a perfect square that is b) one more than a multiple of 5."
   ]
  }
 ],
 "metadata": {
  "kernelspec": {
   "display_name": "Julia 1.0.5",
   "language": "julia",
   "name": "julia-1.0"
  },
  "language_info": {
   "file_extension": ".jl",
   "mimetype": "application/julia",
   "name": "julia",
   "version": "1.0.5"
  }
 },
 "nbformat": 4,
 "nbformat_minor": 4
}
